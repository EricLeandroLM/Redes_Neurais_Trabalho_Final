{
 "cells": [
  {
   "cell_type": "markdown",
   "metadata": {},
   "source": [
    "<div style=\"display: flex; justify-content: center; align-items: center;\">\n",
    "<p align=\"center\">\n",
    "<img src=\"Brasão.jfif\" style=\"width:250px;height:250px\" alt='imagem do daniel'>\n",
    "</p>\n",
    "\n",
    "<div style=\"margin-left: 20px;\">\n",
    "<h1 style=\"font-family: times new roman;\">TechTrinity</h1>\n",
    "<p style=\"margin-bottom: 5px;\">MONSTRO: MN5 </p>\n",
    "<p style=\"margin-bottom: 5px;\">INTEGRANTES: Eric Leandro, Samuel Araujo e Daniel Carrasco </p>\n",
    "<p style=\"margin-bottom: 5px;\">DISCIPLINA: Redes Neurais e Algoritmos Genéticos</p>\n",
    "<p style=\"margin-bottom: 5px;\">MESTRE: Daniel Cassar</p>\n",
    "\n",
    "</div>"
   ]
  },
  {
   "cell_type": "markdown",
   "metadata": {},
   "source": [
    "<h1> Codex n°x: Nome do monstro </h1>"
   ]
  },
  {
   "cell_type": "markdown",
   "metadata": {},
   "source": [
    "<style>\n",
    "  .container {\n",
    "    display: flex;\n",
    "    align-items: center;\n",
    "  }\n",
    "  .texto {\n",
    "    margin-left: 20px; /* Espaçamento entre a imagem e o texto */\n",
    "  }\n",
    "  .imagem {\n",
    "    max-width: 300px;\n",
    "    height: auto;\n",
    "  }\n",
    "  .texto-abaixo {\n",
    "    margin-top: 20px; /* Espaçamento entre o texto e o texto abaixo */\n",
    "  }\n",
    "</style>\n",
    "\n",
    "<div class=\"container\">\n",
    "  <img class=\"imagem\" src=\"Guerreiro_sem_alma.jpg\" alt=\"imagem monstro\">\n",
    "  <div class=\"texto\">\n",
    "  <p>\n",
    "\n",
    "  texto aq\n",
    "    \n",
    "  </p>\n",
    "  </div>\n",
    "</div>\n",
    "\n",
    "<div class=\"texto-abaixo\">\n",
    "  <p>\n",
    "\n",
    "  Texto aq\n",
    "  \n",
    "  </p>\n",
    "</div>\n"
   ]
  },
  {
   "cell_type": "markdown",
   "metadata": {},
   "source": [
    "## Considerações\n",
    "\n",
    "Nível de dificuldade: ★ (D) # Mudar\n",
    "\n",
    "Até magos iniciantes conseguem derrotar o Grimório dos Elementos Obscuros, desde que sejam cautelosos e se preparem com antecedencia. # Mudar"
   ]
  },
  {
   "cell_type": "markdown",
   "metadata": {},
   "source": [
    "## Pergaminhos de referência\n",
    "\n",
    "***[1]*** \n",
    "\n",
    "***[2]*** "
   ]
  },
  {
   "cell_type": "markdown",
   "metadata": {},
   "source": []
  }
 ],
 "metadata": {
  "kernelspec": {
   "display_name": "Python 3.10.8 64-bit",
   "language": "python",
   "name": "python3"
  },
  "language_info": {
   "codemirror_mode": {
    "name": "ipython",
    "version": 3
   },
   "file_extension": ".py",
   "mimetype": "text/x-python",
   "name": "python",
   "nbconvert_exporter": "python",
   "pygments_lexer": "ipython3",
   "version": "3.10.8"
  },
  "orig_nbformat": 4,
  "vscode": {
   "interpreter": {
    "hash": "26de051ba29f2982a8de78e945f0abaf191376122a1563185a90213a26c5da77"
   }
  }
 },
 "nbformat": 4,
 "nbformat_minor": 2
}
