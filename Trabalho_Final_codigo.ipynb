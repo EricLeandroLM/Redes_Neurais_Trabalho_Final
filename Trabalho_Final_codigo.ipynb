{
 "cells": [
  {
   "cell_type": "markdown",
   "metadata": {},
   "source": [
    "<div style=\"display: flex; justify-content: center; align-items: center;\">\n",
    "<p align=\"center\">\n",
    "<img src=\"Capa.jpeg\" style=\"width:250px;height:250px\" alt='imagem do daniel'>\n",
    "</p>\n",
    "\n",
    "<div style=\"margin-left: 20px;\">\n",
    "<h1 style=\"font-family: times new roman;\">TechTrinity</h1>\n",
    "<p style=\"margin-bottom: 5px;\">Trabalho Final de Redes Neurais</p>\n",
    "<p style=\"margin-bottom: 5px;\">INTEGRANTES: Eric Leandro, Samuel Araujo e Daniel Carrasco </p>\n",
    "<p style=\"margin-bottom: 5px;\">DISCIPLINA: Redes Neurais e Algoritmos Genéticos</p>\n",
    "<p style=\"margin-bottom: 5px;\">MESTRE: Daniel Cassar</p>\n",
    "\n",
    "</div>"
   ]
  },
  {
   "cell_type": "markdown",
   "metadata": {},
   "source": []
  }
 ],
 "metadata": {
  "kernelspec": {
   "display_name": "Python 3.10.8 64-bit",
   "language": "python",
   "name": "python3"
  },
  "language_info": {
   "name": "python",
   "version": "3.10.8"
  },
  "orig_nbformat": 4,
  "vscode": {
   "interpreter": {
    "hash": "26de051ba29f2982a8de78e945f0abaf191376122a1563185a90213a26c5da77"
   }
  }
 },
 "nbformat": 4,
 "nbformat_minor": 2
}
